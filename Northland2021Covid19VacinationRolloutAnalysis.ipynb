{
 "cells": [
  {
   "cell_type": "markdown",
   "metadata": {},
   "source": [
    "# Analysis \n",
    "\n",
    "Looking for insights into the Vaccination Uptake by analysis of New Zealand Ministry of Health Covid 19 Vaccination data\n",
    "\n",
    "This analysis is focused on Northland, NZ\n",
    "\n",
    "We will explore the rate of change of the unvaccinated by Age, Sex and Ethnicity\n",
    "\n",
    "This study aims to be impartial and does not warrant the source of the data or the accuracy of the data reports or graphs generated.\n",
    "\n",
    ":::{admonition} Full Disclosure\n",
    "The author of this study has no medical training and is not affiliated to any medical or any other group handling Covid19 responses. \n",
    "\n",
    "**It is strongly advised that anyone unsure about getting vaccinated or is looking for further information,  consult with a registered medical person or seek validated official communications from appropriate authorities.**\n",
    "\n",
    "The author is vaccinated with the Phizer Covid19 Vaccine (COMIRNATY) with active ingredient BNT162b2\n",
    "\n",
    ":::\n",
    " \n",
    "\n"
   ]
  },
  {
   "cell_type": "markdown",
   "metadata": {},
   "source": [
    "# Plots of current vaccination ratios"
   ]
  },
  {
   "cell_type": "code",
   "execution_count": null,
   "metadata": {},
   "outputs": [],
   "source": [
    "from IPython.core.display import display, HTML\n",
    "from plotly.offline import init_notebook_mode, plot\n",
    "init_notebook_mode(connected=True)\n",
    "\n",
    "import modules\n",
    "import modules.data_prep as dp\n",
    "import modules.data_viz1 as dv\n",
    "\n",
    "data = dp.MOH_data()\n",
    "data.prep_step1_pull_data()\n",
    "data.prep_step_2_read_all_uptake_data()\n",
    "data.prep_step_3_generate_report_data()"
   ]
  },
  {
   "cell_type": "markdown",
   "metadata": {},
   "source": [
    "\n",
    "The last data committed by the MHO is: {glue:}`Northland MOH data last commit`\n",
    "\n",
    "Current week is: {glue:}`Current Week`\n",
    "\n",
    "The eligible population is: {glue:}`Northland Total Vaccine Eligible Population (current week)`\n",
    "\n",
    "The current unvaccinated but eligible population is: {glue:}`Northland Total Vaccine Eligible Unvaccinated Population (current week)`\n",
    "\n",
    "Total New, first time vaccinations: {glue:}`Northland Total Vaccine New Vaccinated Population (current week)`\n",
    "\n",
    "### Percentages\n",
    "Partial and fully vaccinated as  % of eligible population: {glue:}`Northland partially and full Vaccinated Population as Percentage of Population at end of week (current week)`\n",
    "\n",
    "Fully Vaccinated as %  eligible population : {glue:}`Northland Fully Vaccinated Population as percentage of Population at end of week (current week)`\n",
    "\n",
    "Newly Vaccinated as % of unvaccinated but eligible population: {glue:}`Northland Total New Vaccinated % of unvaccinated Population at start of week (current week)` (unvaccinated population at beginning of week)\n",
    "\n"
   ]
  },
  {
   "cell_type": "markdown",
   "metadata": {},
   "source": [
    "\n",
    "## Graphs"
   ]
  },
  {
   "cell_type": "code",
   "execution_count": null,
   "metadata": {},
   "outputs": [],
   "source": [
    "plot(dv.plot2(data.df_all_weeks_no_gender_age_category), filename = 'figure2.html')\n",
    "display(HTML('figure2.html'))"
   ]
  },
  {
   "cell_type": "code",
   "execution_count": null,
   "metadata": {},
   "outputs": [],
   "source": [
    "plot(dv.plot3(data.df_all_weeks_no_gender_age_category), filename = 'figure3.html')\n",
    "display(HTML('figure3.html'))\n"
   ]
  },
  {
   "cell_type": "code",
   "execution_count": null,
   "metadata": {},
   "outputs": [],
   "source": [
    "\n",
    "df = data.df_all_weeks_no_gender_age_category.query((\n",
    "    '[\"European or Other\", \"Maori\"] in `Ethnic group`'\n",
    "    # ' and `Age Category` == \"12-19\"'\n",
    "    # ' and [\"12-19\",\"20-39\"] in `Age Category`'\n",
    "    )\n",
    ").sort_values([\"Age Category\", \"Ethnic group\"])\n",
    "\n",
    "\n",
    "plot(dv.plot_overall_vaccination_status(df),filename = 'figure4.html')\n",
    "display(HTML('figure4.html'))"
   ]
  },
  {
   "cell_type": "markdown",
   "metadata": {},
   "source": [
    "The following pltos indicate the amount of first doses received each week.\n",
    "The 2 main large populations are looked at: Maori and European\n"
   ]
  },
  {
   "cell_type": "code",
   "execution_count": null,
   "metadata": {},
   "outputs": [],
   "source": [
    "# import plotly.io as pio\n",
    "import plotly.express as px\n",
    "# import plotly.offline as py"
   ]
  },
  {
   "cell_type": "code",
   "execution_count": null,
   "metadata": {},
   "outputs": [],
   "source": [
    "ethnic_group=\"Maori, European or Other\"\n",
    "fig = px.bar(data.df_all_weeks_no_gender.query(f'{ethnic_group.split(\", \")} in `Ethnic group`'), \n",
    "    x=\"Week ending\", \n",
    "    y=\"First dose administered Changed\", \n",
    "    title=f\"{ethnic_group} -  First dose received\",\n",
    "    facet_col=\"Ethnic group\", \n",
    "    # facet_col=\"Gender\",\n",
    "    color='Age Category',\n",
    "    text='First dose administered Changed',\n",
    "    hover_data=[\n",
    "        \"Ethnic group\",\n",
    "        \"Age Category\",\n",
    "        \"Population unvaccinated at week start\",\n",
    "        \"Population unvaccinated at week end\",\n",
    "        \"Population\",\n",
    "        \"First dose administered_prior\",\n",
    "        \"First dose administered Changed\",\n",
    "        \"First dose administered Changed as Percent of unvaccinated Population\",\n",
    "    ],)\n",
    "plot(fig,filename = 'figure5.html')\n",
    "display(HTML('figure5.html'))"
   ]
  },
  {
   "cell_type": "code",
   "execution_count": null,
   "metadata": {},
   "outputs": [],
   "source": [
    "ethnic_group=\"European or Other\"\n",
    "fig = px.bar(data.df_all_weeks_no_gender.loc[data.df_all_weeks_no_gender['Ethnic group']==ethnic_group], \n",
    "    x=\"Week ending\", \n",
    "    y=\"First dose administered Changed\", \n",
    "    title=f\"{ethnic_group} -  First dose received\",\n",
    "    color='Age Category',\n",
    "    # facet_col=\"Gender\",\n",
    "    hover_data=[\n",
    "        \"Ethnic group\",\n",
    "        \"Age Category\",\n",
    "        \"Population unvaccinated at week start\",\n",
    "        \"Population unvaccinated at week end\",\n",
    "        \"Population\",\n",
    "        \"First dose administered_prior\",\n",
    "        \"First dose administered Changed\",\n",
    "        \"First dose administered Changed as Percent of unvaccinated Population\",\n",
    "    ],)\n",
    "plot(fig,filename = 'figure6.html')\n",
    "display(HTML('figure6.html'))"
   ]
  },
  {
   "cell_type": "code",
   "execution_count": null,
   "metadata": {},
   "outputs": [],
   "source": [
    "ethnic_group=\"Maori\"\n",
    "fig = px.bar(data.df_all_weeks_no_gender.loc[data.df_all_weeks_no_gender['Ethnic group']==ethnic_group], \n",
    "    x=\"Week ending\", \n",
    "    y=\"First dose administered Changed\", \n",
    "    title=f\"{ethnic_group} -  First dose received\",\n",
    "    color='Age Category',\n",
    "    # facet_col=\"Gender\",\n",
    "    hover_data=[\n",
    "        \"Ethnic group\",\n",
    "        \"Age Category\",\n",
    "        \"Population unvaccinated at week start\",\n",
    "        \"Population unvaccinated at week end\",\n",
    "        \"Population\",\n",
    "        \"First dose administered_prior\",\n",
    "        \"First dose administered Changed\",\n",
    "        \"First dose administered Changed as Percent of unvaccinated Population\",\n",
    "    ],)\n",
    "plot(fig,filename = 'figure7.html')\n",
    "display(HTML('figure7.html'))"
   ]
  },
  {
   "cell_type": "markdown",
   "metadata": {},
   "source": [
    "# References\n",
    "\n",
    "Data source: Ministry of Health, New Zealand COVID-19 Data - https://github.com/minhealthnz/nz-covid-data\n",
    "\n",
    "Further information\n",
    "\n",
    "Northland DHB, COVID-19 Northland Hub: https://www.northlanddhb.org.nz/home/covid-19/covid-19-northland-hub/"
   ]
  }
 ],
 "metadata": {
  "celltoolbar": "Tags",
  "interpreter": {
   "hash": "4ea2da38c183ca5d39e2dba0af4b4cc1c33519f2218d9eccd6ba04d9caf22d01"
  },
  "kernelspec": {
   "display_name": "Python 3.9.7 64-bit ('21w44-nz-covid19-vacination-analysis-north-pDjKlKMJ-py3.9': poetry)",
   "name": "python3"
  },
  "language_info": {
   "codemirror_mode": {
    "name": "ipython",
    "version": 3
   },
   "file_extension": ".py",
   "mimetype": "text/x-python",
   "name": "python",
   "nbconvert_exporter": "python",
   "pygments_lexer": "ipython3",
   "version": "3.9.7"
  },
  "widgets": {
   "application/vnd.jupyter.widget-state+json": {
    "state": {},
    "version_major": 2,
    "version_minor": 0
   }
  }
 },
 "nbformat": 4,
 "nbformat_minor": 4
}
